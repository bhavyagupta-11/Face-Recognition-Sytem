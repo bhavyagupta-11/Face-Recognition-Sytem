{
 "cells": [
  {
   "cell_type": "code",
   "execution_count": null,
   "id": "c6fd86d3",
   "metadata": {},
   "outputs": [],
   "source": [
    "# we use harcascade classifier to identify face in a photo\n",
    "#take the largest face and save it in a numpy array and repeat the process to generate training data"
   ]
  },
  {
   "cell_type": "code",
   "execution_count": 7,
   "id": "cfa69247",
   "metadata": {},
   "outputs": [],
   "source": [
    "import cv2\n",
    "import numpy as np"
   ]
  },
  {
   "cell_type": "code",
   "execution_count": 8,
   "id": "217dfcf7",
   "metadata": {},
   "outputs": [
    {
     "name": "stdout",
     "output_type": "stream",
     "text": [
      "Enter the name of the person :bg\n",
      "Data Successfully saved at ./data/bg.npy\n"
     ]
    }
   ],
   "source": [
    "cap=cv2.VideoCapture(0)\n",
    "face=cv2.CascadeClassifier(\"haarcascade_frontalface.xml\")\n",
    "skip=0\n",
    "face_data=[]\n",
    "dataset_path=\"./data/\"\n",
    "file_name=input(\"Enter the name of the person :\")\n",
    "while True:\n",
    "    ret,frame=cap.read()\n",
    "    if ret==False:\n",
    "        continue\n",
    "    faces=face.detectMultiScale(frame,1.3,5)\n",
    "    faces=sorted(faces,key=lambda f:f[2]*f[3],reverse=True)\n",
    "    #here we are sorting data on the basis of there face area that is w*h\n",
    "    \n",
    "    #scalefactor is 1.3 which specifies how much should we scale each of our rectangle to detect\n",
    "    #5 is minNeighbours to know how many neighbours of each rectangle is there\n",
    "    \n",
    "    for(x,y,w,h) in faces:\n",
    "        cv2.rectangle(frame,(x,y),(x+w,y+h),(255,0,0),2)\n",
    "        \n",
    "        #extract the cropped area\n",
    "        offset=10\n",
    "        #offset is the extra area of the rectangle to be extracted\n",
    "        face_section=frame[y-offset:y+h+offset,x-offset:x+h+offset]\n",
    "        face_section=cv2.resize(face_section,(100,100))\n",
    "        skip+=1\n",
    "        if skip%10==0:\n",
    "            face_data.append(face_section)\n",
    "        \n",
    "    cv2.imshow('Picture',frame)\n",
    "    #cv2.imshow('Face Section',face_section)\n",
    "    key=cv2.waitKey(1) & 0xFF\n",
    "    if key==ord('q'):\n",
    "        break\n",
    "\n",
    "# convert our face list into numpy array\n",
    "face_data=np.asarray(face_data)\n",
    "face_data=face_data.reshape((face_data.shape[0],-1))    \n",
    "\n",
    "# save this data into the system\n",
    "np.save(dataset_path+file_name+'.npy',face_data)\n",
    "print(\"Data Successfully saved at \"+dataset_path+file_name+\".npy\")\n",
    "\n",
    "cap.release()\n",
    "cv2.destroyAllWindows()\n"
   ]
  },
  {
   "cell_type": "code",
   "execution_count": null,
   "id": "9378eec6",
   "metadata": {},
   "outputs": [],
   "source": []
  }
 ],
 "metadata": {
  "kernelspec": {
   "display_name": "Python 3 (ipykernel)",
   "language": "python",
   "name": "python3"
  },
  "language_info": {
   "codemirror_mode": {
    "name": "ipython",
    "version": 3
   },
   "file_extension": ".py",
   "mimetype": "text/x-python",
   "name": "python",
   "nbconvert_exporter": "python",
   "pygments_lexer": "ipython3",
   "version": "3.9.12"
  }
 },
 "nbformat": 4,
 "nbformat_minor": 5
}
