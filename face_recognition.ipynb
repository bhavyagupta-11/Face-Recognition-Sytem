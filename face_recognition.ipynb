{
 "cells": [
  {
   "cell_type": "code",
   "execution_count": 1,
   "id": "d4a286fc",
   "metadata": {},
   "outputs": [],
   "source": [
    "#read a video stream\n",
    "#extract faces out of it\n",
    "#load the training data\n",
    "#use knn to find the face\n",
    "#map the predicted id to the name of the user\n",
    "#display predictions"
   ]
  },
  {
   "cell_type": "code",
   "execution_count": 7,
   "id": "a6e6f879",
   "metadata": {},
   "outputs": [],
   "source": [
    "import cv2\n",
    "import numpy as np\n",
    "import os"
   ]
  },
  {
   "cell_type": "code",
   "execution_count": 8,
   "id": "75c4b222",
   "metadata": {},
   "outputs": [],
   "source": [
    "def distance(x,y):\n",
    "    return np.sqrt(sum((x-y)**2))\n",
    "def knn(train,test,k=5):\n",
    "    dist=[]\n",
    "    \n",
    "    for i in range(train.shape[0]):\n",
    "        #Get the vector and the label\n",
    "        ix=train[i,:-1]\n",
    "        iy=train[i,-1]\n",
    "        \n",
    "        #compute the distance from the test point\n",
    "        d=distance(test,ix)\n",
    "        dist.append([d,iy])\n",
    "    \n",
    "    dk=sorted(dist,key=lambda x:x[0])[:k]\n",
    "    #Retrieve only the labels\n",
    "    labels=np.array(dk)[:,-1]\n",
    "    #Get the frequencies of each label\n",
    "    output=np.unique(labels,return_counts=True)\n",
    "    index=np.argmax(output[1])\n",
    "    pred=output[0][index]\n",
    "    return pred"
   ]
  },
  {
   "cell_type": "code",
   "execution_count": 9,
   "id": "0671c3e0",
   "metadata": {},
   "outputs": [],
   "source": [
    "cap=cv2.VideoCapture(0)\n",
    "face=cv2.CascadeClassifier(\"haarcascade_frontalface.xml\")\n",
    "skip=0\n",
    "face_data=[]\n",
    "dataset_path=\"./data/\"\n",
    "labels=[]\n",
    "class_id=0 #labels for the given file\n",
    "name={} #mapping between id-name\n",
    "\n",
    "# data preparation\n",
    "for fx in os.listdir(dataset_path):\n",
    "    if fx.endswith('.npy'):\n",
    "        name[class_id]=fx[:-4]\n",
    "        data_item=np.load(dataset_path+fx)\n",
    "        face_data.append(data_item)\n",
    "        \n",
    "        #Create Labels for the class\n",
    "        target=class_id*np.ones((data_item.shape[0],))\n",
    "        class_id+=1\n",
    "        labels.append(target)\n",
    "        \n",
    "face_dataset=np.concatenate(face_data,axis=0)\n",
    "face_labels=np.concatenate(labels,axis=0).reshape((-1,1))\n",
    "trainset=np.concatenate((face_dataset,face_labels),axis=1)\n",
    "\n",
    "#testing\n",
    "while True:\n",
    "    ret,frame=cap.read()\n",
    "    if ret==False:\n",
    "        continue\n",
    "    faces=face.detectMultiScale(frame,1.3,5)\n",
    "    faces=sorted(faces,key=lambda f:f[2]*f[3],reverse=True)\n",
    "    \n",
    "    for(x,y,w,h) in faces:\n",
    "        #extract the cropped area\n",
    "        offset=10\n",
    "        face_section=frame[y-offset:y+h+offset,x-offset:x+h+offset]\n",
    "        face_section=cv2.resize(face_section,(100,100))\n",
    "        \n",
    "        #Predict label\n",
    "        out=knn(trainset,face_section.flatten())\n",
    "        \n",
    "        #Display on screen\n",
    "        pred_name=name[int(out)]\n",
    "        cv2.putText(frame,pred_name,(x,y-10),cv2.FONT_HERSHEY_SIMPLEX,1,(255,0,0),2,cv2.LINE_AA)\n",
    "        cv2.rectangle(frame,(x,y),(x+w,y+h),(255,0,0),2)\n",
    "        \n",
    "    cv2.imshow('Faces',frame)\n",
    "    key=cv2.waitKey(1) & 0xFF\n",
    "    if key==ord('q'):\n",
    "        break\n",
    "        \n",
    "cap.release()\n",
    "cv2.destroyAllWindows()\n"
   ]
  },
  {
   "cell_type": "code",
   "execution_count": null,
   "id": "9a25c9ef",
   "metadata": {},
   "outputs": [],
   "source": []
  }
 ],
 "metadata": {
  "kernelspec": {
   "display_name": "Python 3 (ipykernel)",
   "language": "python",
   "name": "python3"
  },
  "language_info": {
   "codemirror_mode": {
    "name": "ipython",
    "version": 3
   },
   "file_extension": ".py",
   "mimetype": "text/x-python",
   "name": "python",
   "nbconvert_exporter": "python",
   "pygments_lexer": "ipython3",
   "version": "3.9.12"
  }
 },
 "nbformat": 4,
 "nbformat_minor": 5
}
